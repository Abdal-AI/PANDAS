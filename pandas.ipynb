{
 "cells": [
  {
   "cell_type": "markdown",
   "id": "5b3b21ef",
   "metadata": {},
   "source": [
    "# PANDAS"
   ]
  },
  {
   "cell_type": "markdown",
   "id": "60b7873d",
   "metadata": {},
   "source": [
    "**SERIES IN PANDAS**\n",
    "- ITS like one dimmmension array\n",
    "- we can access all the eelemrnt in arry\n",
    "- now to see the example of series"
   ]
  },
  {
   "cell_type": "code",
   "execution_count": null,
   "id": "38f53367",
   "metadata": {},
   "outputs": [],
   "source": [
    "import pandas as pd\n",
    "# lets we take a simple one dimmension array\n",
    "arry=[1,2,3,4,5,6,7,8,9,10]\n",
    "# lets we convert this array into pandas series\n",
    "new=pd.Series(arry)\n",
    "print(new)"
   ]
  },
  {
   "cell_type": "markdown",
   "id": "5437122f",
   "metadata": {},
   "source": [
    "**WE CAN ACCESS THE EVERY ELENT OF IT**\n",
    "- for example i have 10 index and i want to aceess the 9 one so waht i do \n",
    "- so i will show this in code"
   ]
  },
  {
   "cell_type": "code",
   "execution_count": null,
   "id": "106e7809",
   "metadata": {},
   "outputs": [
    {
     "name": "stdout",
     "output_type": "stream",
     "text": [
      "10\n"
     ]
    }
   ],
   "source": [
    "\n",
    "new_var=new[8]\n",
    "print(new_var)"
   ]
  },
  {
   "cell_type": "markdown",
   "id": "726f8fda",
   "metadata": {},
   "source": [
    "****"
   ]
  },
  {
   "cell_type": "markdown",
   "id": "c486ec52",
   "metadata": {},
   "source": [
    "**how to access element from dictionary**"
   ]
  },
  {
   "cell_type": "code",
   "execution_count": null,
   "id": "788e20bf",
   "metadata": {},
   "outputs": [],
   "source": [
    "import pandas as pd\n",
    "mydata={ 'car': [\"bmw\",\"toyota\",\"ford\"] ,'number': [1,2,3]}\n",
    "mynew=pd.DataFrame(mydata)\n",
    "print(mynew)\n",
    "new_var=mynew['car'][2]\n",
    "print(new_var)"
   ]
  },
  {
   "cell_type": "markdown",
   "id": "a4ee9683",
   "metadata": {},
   "source": [
    "# DATA FRAME\n",
    "**FIRST WE GENERATE A MANUALLY DATA FRAM**\n",
    "- lets show you in an example"
   ]
  },
  {
   "cell_type": "code",
   "execution_count": null,
   "id": "6bba5e1e",
   "metadata": {},
   "outputs": [],
   "source": [
    "import pandas as pd\n",
    "import numpy as np\n",
    "from numpy.random import rand\n",
    "\n",
    "my_data = rand(4,3) # This is a 4x3 array (4 rows, 3 columns)\n",
    "\n",
    "num_rows = ['monday','tues','wens','turs'] # This list has 4 elements, for the 4 rows\n",
    "num_columns = ['A','B','C']             # This list has 3 elements, for the 3 columns\n",
    "\n",
    "# Corrected DataFrame creation using keyword arguments for clarity and correctness\n",
    "mynew = pd.DataFrame(my_data, num_rows, num_columns)\n",
    "\n",
    "print(mynew)"
   ]
  },
  {
   "cell_type": "markdown",
   "id": "ce7280ad",
   "metadata": {},
   "source": [
    "# read csv file\n"
   ]
  },
  {
   "cell_type": "code",
   "execution_count": null,
   "id": "54c231db",
   "metadata": {},
   "outputs": [],
   "source": [
    "import pandas as pd\n",
    "pd.set_option('display.max_rows', None)  # Show all rows\n",
    "new = pd.read_csv('sales_data_analysis.csv')\n",
    "print(new)"
   ]
  },
  {
   "cell_type": "markdown",
   "id": "9ff5b604",
   "metadata": {},
   "source": [
    "# READ JSON FILE"
   ]
  },
  {
   "cell_type": "code",
   "execution_count": null,
   "id": "d4607c3e",
   "metadata": {},
   "outputs": [],
   "source": [
    "import pandas as pd\n",
    "pd.set_option('display.max_rows', None)  # Show all rows\n",
    "pd.set_option('display.max_columns', None)  # Show all columns\n",
    "new =pd.read_json('iris-parquet.json')\n",
    "print(new)"
   ]
  },
  {
   "cell_type": "markdown",
   "id": "7eb73642",
   "metadata": {},
   "source": [
    "# PANDAS ANLAYISE DATA\n",
    "**WE CAN THREE FUCTION**\n",
    "- Head()\n",
    "- tail()\n",
    "- info()"
   ]
  },
  {
   "cell_type": "markdown",
   "id": "f9c6d49d",
   "metadata": {},
   "source": [
    "# HEAD FUNCTION\n",
    "- it show only fist five rows"
   ]
  },
  {
   "cell_type": "code",
   "execution_count": null,
   "id": "8873a1ff",
   "metadata": {},
   "outputs": [],
   "source": [
    "import pandas as pd\n",
    "df=pd.read_csv('sales_data_analysis.csv')\n",
    "print(df.head())"
   ]
  },
  {
   "cell_type": "markdown",
   "id": "c19155e9",
   "metadata": {},
   "source": [
    "**if we want to access rows what you want**\n",
    "- for example 10\n"
   ]
  },
  {
   "cell_type": "code",
   "execution_count": null,
   "id": "d41fec73",
   "metadata": {},
   "outputs": [],
   "source": [
    "import pandas as pd\n",
    "pd.set_option('display.max_rows', None)  # Show all rows\n",
    "pd.set_option('display.max_columns', None)  # Show all columns\n",
    "df = pd.read_csv(\"sales_data_analysis.csv\")\n",
    "print(df.head(12))"
   ]
  },
  {
   "cell_type": "markdown",
   "id": "b0f5bc38",
   "metadata": {},
   "source": [
    "# TAIL FUNCTION\n"
   ]
  },
  {
   "cell_type": "code",
   "execution_count": null,
   "id": "859087e6",
   "metadata": {},
   "outputs": [],
   "source": [
    "import pandas as pd\n",
    "df= pd.read_csv('sales_data_analysis.csv')\n",
    "print(df.tail())"
   ]
  },
  {
   "cell_type": "markdown",
   "id": "4916b4dc",
   "metadata": {},
   "source": [
    "**if you want to access more than  rows from last**"
   ]
  },
  {
   "cell_type": "code",
   "execution_count": null,
   "id": "1749d9e2",
   "metadata": {},
   "outputs": [],
   "source": [
    "import pandas as pd\n",
    "df =pd.read_csv('sales_data_analysis.csv')\n",
    "print(df.tail(10))"
   ]
  },
  {
   "cell_type": "markdown",
   "id": "aa08ddd4",
   "metadata": {},
   "source": [
    "# CLEANING EMPTY CELL\n",
    "- When you ahve a large data set and you want to remove empty row so no problem to delete\n",
    "- we use dropna function\n",
    "- the dropna fuction delete the empty cell row but not change the orignal\n",
    "- we use dropna()"
   ]
  },
  {
   "cell_type": "code",
   "execution_count": null,
   "id": "46e504ec",
   "metadata": {},
   "outputs": [],
   "source": [
    "import pandas as pd\n",
    "df=pd.read_csv('data.csv')\n",
    "df_new=df.dropna()  # This will remove all rows with any NaN values\n",
    "print(df_new.to_string())"
   ]
  },
  {
   "cell_type": "markdown",
   "id": "a77c6925",
   "metadata": {},
   "source": [
    "**if you wan to change the original**\n",
    "- we use dropna(inplace=true) then the orignal will aslo change"
   ]
  },
  {
   "cell_type": "code",
   "execution_count": null,
   "id": "2921d5f6",
   "metadata": {},
   "outputs": [],
   "source": [
    "import pandas as pd\n",
    "df=pd.read_csv('data.csv')\n",
    "df.dropna(inplace=True)  \n",
    "print(df.to_string())"
   ]
  },
  {
   "cell_type": "markdown",
   "id": "6a010763",
   "metadata": {},
   "source": [
    "# describe function\n",
    "**to show all information about any file**"
   ]
  },
  {
   "cell_type": "code",
   "execution_count": 11,
   "id": "a5a91d69",
   "metadata": {},
   "outputs": [
    {
     "name": "stdout",
     "output_type": "stream",
     "text": [
      "         Duration       Pulse    Maxpulse     Calories\n",
      "count  168.000000  169.000000  169.000000   164.000000\n",
      "mean    63.779762  107.461538  134.047337   375.790244\n",
      "std     42.417574   14.510259   16.450434   266.379919\n",
      "min     15.000000   80.000000  100.000000    50.300000\n",
      "25%     45.000000  100.000000  124.000000   250.925000\n",
      "50%     60.000000  105.000000  131.000000   318.600000\n",
      "75%     60.000000  111.000000  141.000000   387.600000\n",
      "max    300.000000  159.000000  184.000000  1860.400000\n"
     ]
    }
   ],
   "source": [
    "import pandas as pd\n",
    "df=pd.read_csv('data.csv')\n",
    "print(df.describe())\n"
   ]
  },
  {
   "cell_type": "markdown",
   "id": "f11e741d",
   "metadata": {},
   "source": [
    "# info fuction\n",
    "- it show number of entities\n",
    "- it show data type\n",
    "- show number of column"
   ]
  },
  {
   "cell_type": "code",
   "execution_count": null,
   "id": "2f19169e",
   "metadata": {},
   "outputs": [],
   "source": [
    "import pandas as pd\n",
    "df=pd.read_csv('data.csv')\n",
    "print(df.info())"
   ]
  },
  {
   "cell_type": "markdown",
   "id": "eeda893e",
   "metadata": {},
   "source": [
    "# REPLACE EMPTY VALUE\n",
    "- WE USE fillna()"
   ]
  },
  {
   "cell_type": "code",
   "execution_count": null,
   "id": "12e46836",
   "metadata": {},
   "outputs": [],
   "source": [
    "import pandas as pd\n",
    "df = pd.read_csv('data.csv')\n",
    "df.fillna(134.89, inplace=True)  # Replace NaN values with 0\n",
    "print(df.to_string())"
   ]
  },
  {
   "cell_type": "markdown",
   "id": "270d1f8d",
   "metadata": {},
   "source": [
    "**to change the value in specify column**"
   ]
  },
  {
   "cell_type": "code",
   "execution_count": null,
   "id": "022118a8",
   "metadata": {},
   "outputs": [],
   "source": [
    "import pandas as pd\n",
    "df =pd.read_csv('data.csv')\n",
    "df.fillna({'Calories':450},inplace=True)\n",
    "print(df.to_string())"
   ]
  },
  {
   "cell_type": "markdown",
   "id": "7ade6b69",
   "metadata": {},
   "source": [
    "# USING MEAN(),MODE(),MEDIAN()\n",
    "- how we can replcae the emly cell through it\n"
   ]
  },
  {
   "cell_type": "markdown",
   "id": "bf842497",
   "metadata": {},
   "source": [
    "**mean()**"
   ]
  },
  {
   "cell_type": "code",
   "execution_count": null,
   "id": "378fa2d8",
   "metadata": {},
   "outputs": [],
   "source": [
    "import pandas as pd\n",
    "df = pd.read_csv('data.csv')\n",
    "mean_value = df['Calories'].mean()\n",
    "print(\"the mean(average) of calories calumn is :\",mean_value)\n",
    "print(\"-------------------------------------------\")\n",
    "df.fillna({'Calories': mean_value},inplace=True)\n",
    "print(df.to_string())"
   ]
  },
  {
   "cell_type": "markdown",
   "id": "423a1f59",
   "metadata": {},
   "source": [
    "**if you find the mean os all numaric data**\n",
    "- then we use numeric data=true"
   ]
  },
  {
   "cell_type": "code",
   "execution_count": 9,
   "id": "e361cb68",
   "metadata": {},
   "outputs": [
    {
     "name": "stdout",
     "output_type": "stream",
     "text": [
      "Duration     63.779762\n",
      "Pulse       107.461538\n",
      "Maxpulse    134.047337\n",
      "Calories    375.790244\n",
      "dtype: float64\n"
     ]
    }
   ],
   "source": [
    "import pandas as pd\n",
    "sf=pd.read_csv('data.csv')\n",
    "mean_ofall_numaric_data=sf.mean(numeric_only=True)\n",
    "print(mean_ofall_numaric_data)"
   ]
  },
  {
   "cell_type": "markdown",
   "id": "579474c3",
   "metadata": {},
   "source": [
    "# MODE()\n",
    "**mode mean repeating of somthing**\n",
    "- we use the mode() function"
   ]
  },
  {
   "cell_type": "code",
   "execution_count": null,
   "id": "1d0563f5",
   "metadata": {},
   "outputs": [
    {
     "name": "stdout",
     "output_type": "stream",
     "text": [
      "The mode of the data is:\n",
      "   Duration  Pulse  Maxpulse  Calories\n",
      "0      60.0    100       120     300.0\n"
     ]
    }
   ],
   "source": [
    "import pandas as pd\n",
    "df=pd.read_csv(\"data.csv\")\n",
    "mode_value=df.mode()\n",
    "print(\"The mode of the data is:\")\n",
    "print(mode_value)"
   ]
  },
  {
   "cell_type": "markdown",
   "id": "f4f3eff2",
   "metadata": {},
   "source": [
    "# MEDIAN()\n",
    "- HOW find median \n",
    "- we use median() fuction"
   ]
  },
  {
   "cell_type": "code",
   "execution_count": 15,
   "id": "f7144557",
   "metadata": {},
   "outputs": [
    {
     "name": "stdout",
     "output_type": "stream",
     "text": [
      "The median of the Duration column is:\n",
      "Duration     60.0\n",
      "Pulse       105.0\n",
      "Maxpulse    131.0\n",
      "Calories    318.6\n",
      "dtype: float64\n"
     ]
    }
   ],
   "source": [
    "import pandas as pd\n",
    "df =pd.read_csv('data.csv')\n",
    "new=df.median()\n",
    "print(\"The median of the Duration column is:\")\n",
    "print(new)"
   ]
  },
  {
   "cell_type": "markdown",
   "id": "0703f152",
   "metadata": {},
   "source": [
    "**if you want to finf the median of specfic column**"
   ]
  },
  {
   "cell_type": "code",
   "execution_count": 16,
   "id": "f05a2f66",
   "metadata": {},
   "outputs": [
    {
     "name": "stdout",
     "output_type": "stream",
     "text": [
      "The median of the Duration column is:\n",
      "60.0\n"
     ]
    }
   ],
   "source": [
    "import pandas as pd\n",
    "df=pd.read_csv('data.csv')\n",
    "new=df['Duration'].median()\n",
    "print(\"The median of the Duration column is:\")\n",
    "print(new)"
   ]
  },
  {
   "cell_type": "markdown",
   "id": "1f0d93c4",
   "metadata": {},
   "source": [
    "**if we find the median and then we want to add it to empty cell**"
   ]
  },
  {
   "cell_type": "code",
   "execution_count": 30,
   "id": "68e7525e",
   "metadata": {},
   "outputs": [
    {
     "name": "stdout",
     "output_type": "stream",
     "text": [
      "Successfully filled empty cells with median values.\n",
      "--------------------------------------------------\n",
      "375.79024390243904\n",
      "     Duration  Pulse  Maxpulse  Calories\n",
      "0        60.0    110       130     409.1\n",
      "1        60.0    117       145     479.0\n",
      "2        60.0    103       135     340.0\n",
      "3        45.0    109       175     282.4\n",
      "4        45.0    117       148     406.0\n",
      "5        60.0    102       127     300.0\n",
      "6        60.0    110       136     374.0\n",
      "7        45.0    104       134     253.3\n",
      "8        30.0    109       133     195.1\n",
      "9        60.0     98       124     269.0\n",
      "10       60.0    103       147     329.3\n",
      "11       60.0    100       120     250.7\n",
      "12       60.0    106       128     345.3\n",
      "13       60.0    104       132     379.3\n",
      "14       60.0     98       123     275.0\n",
      "15       60.0     98       120     215.2\n",
      "16       60.0    100       120     300.0\n",
      "17       45.0     90       112     318.6\n",
      "18       60.0    103       123     323.0\n",
      "19       45.0     97       125     243.0\n",
      "20       60.0    108       131     364.2\n",
      "21       45.0    100       119     282.0\n",
      "22       60.0    130       101     300.0\n",
      "23       45.0    105       132     246.0\n",
      "24       60.0    102       126     334.5\n",
      "25       60.0    100       120     250.0\n",
      "26       60.0     92       118     241.0\n",
      "27       60.0    103       132     318.6\n",
      "28       60.0    100       132     280.0\n",
      "29       60.0    102       129     380.3\n",
      "30       60.0     92       115     243.0\n",
      "31       45.0     90       112     180.1\n",
      "32       60.0    101       124     299.0\n",
      "33       60.0     93       113     223.0\n",
      "34       60.0    107       136     361.0\n",
      "35       60.0    114       140     415.0\n",
      "36       60.0    102       127     300.0\n",
      "37       60.0    100       120     300.0\n",
      "38       60.0    100       120     300.0\n",
      "39       45.0    104       129     266.0\n",
      "40       45.0     90       112     180.1\n",
      "41       60.0     98       126     286.0\n",
      "42       60.0    100       122     329.4\n",
      "43       60.0    111       138     400.0\n",
      "44       60.0    111       131     397.0\n",
      "45       60.0     99       119     273.0\n",
      "46       60.0    109       153     387.6\n",
      "47       45.0    111       136     300.0\n",
      "48       45.0    108       129     298.0\n",
      "49       60.0    111       139     397.6\n",
      "50       60.0    107       136     380.2\n",
      "51       80.0    123       146     643.1\n",
      "52       60.0    106       130     263.0\n",
      "53       60.0    118       151     486.0\n",
      "54       30.0    136       175     238.0\n",
      "55       60.0    121       146     450.7\n",
      "56       60.0    118       121     413.0\n",
      "57       45.0    115       144     305.0\n",
      "58       20.0    153       172     226.4\n",
      "59       45.0    123       152     321.0\n",
      "60      210.0    108       160    1376.0\n",
      "61      160.0    110       137    1034.4\n",
      "62      160.0    109       135     853.0\n",
      "63       45.0    118       141     341.0\n",
      "64       20.0    110       130     131.4\n",
      "65      180.0     90       130     800.4\n",
      "66      150.0    105       135     873.4\n",
      "67      150.0    107       130     816.0\n",
      "68       20.0    106       136     110.4\n",
      "69      300.0    108       143    1500.2\n",
      "70      150.0     97       129    1115.0\n",
      "71       60.0    109       153     387.6\n",
      "72       90.0    100       127     700.0\n",
      "73      150.0     97       127     953.2\n",
      "74       45.0    114       146     304.0\n",
      "75       90.0     98       125     563.2\n",
      "76       45.0    105       134     251.0\n",
      "77       45.0    110       141     300.0\n",
      "78      120.0    100       130     500.4\n",
      "79      270.0    100       131    1729.0\n",
      "80       30.0    159       182     319.2\n",
      "81       45.0    149       169     344.0\n",
      "82       30.0    103       139     151.1\n",
      "83      120.0    100       130     500.0\n",
      "84       45.0    100       120     225.3\n",
      "85       30.0    151       170     300.0\n",
      "86       45.0    102       136     234.0\n",
      "87      120.0    100       157    1000.1\n",
      "88       45.0    129       103     242.0\n",
      "89       20.0     83       107      50.3\n",
      "90      180.0    101       127     600.1\n",
      "91       45.0    107       137     318.6\n",
      "92       30.0     90       107     105.3\n",
      "93       15.0     80       100      50.5\n",
      "94       20.0    150       171     127.4\n",
      "95       20.0    151       168     229.4\n",
      "96       30.0     95       128     128.2\n",
      "97       25.0    152       168     244.2\n",
      "98       30.0    109       131     188.2\n",
      "99       90.0     93       124     604.1\n",
      "100      20.0     95       112      77.7\n",
      "101      90.0     90       110     500.0\n",
      "102      90.0     90       100     500.0\n",
      "103      90.0     90       100     500.4\n",
      "104      30.0     92       108      92.7\n",
      "105      30.0     93       128     124.0\n",
      "106     180.0     90       120     800.3\n",
      "107      30.0     90       120      86.2\n",
      "108      90.0     90       120     500.3\n",
      "109     210.0    137       184    1860.4\n",
      "110      60.0    102       124     325.2\n",
      "111      45.0    107       124     275.0\n",
      "112      15.0    124       139     124.2\n",
      "113      45.0    100       120     225.3\n",
      "114      60.0    108       131     367.6\n",
      "115      60.0    108       151     351.7\n",
      "116      60.0    116       141     443.0\n",
      "117      60.0     97       122     277.4\n",
      "118      60.0    105       125     318.6\n",
      "119      60.0    103       124     332.7\n",
      "120      30.0    112       137     193.9\n",
      "121      45.0    100       120     100.7\n",
      "122      60.0    119       169     336.7\n",
      "123      60.0    107       127     344.9\n",
      "124      60.0    111       151     368.5\n",
      "125      60.0     98       122     271.0\n",
      "126      60.0     97       124     275.3\n",
      "127      60.0    109       127     382.0\n",
      "128      90.0     99       125     466.4\n",
      "129      60.0    114       151     384.0\n",
      "130      60.0    104       134     342.5\n",
      "131      60.0    107       138     357.5\n",
      "132      60.0    103       133     335.0\n",
      "133      60.0    106       132     327.5\n",
      "134      60.0    103       136     339.0\n",
      "135      20.0    136       156     189.0\n",
      "136      45.0    117       143     317.7\n",
      "137      45.0    115       137     318.0\n",
      "138      45.0    113       138     308.0\n",
      "139      20.0    141       162     222.4\n",
      "140      60.0    108       135     390.0\n",
      "141      60.0     97       127     318.6\n",
      "142      45.0    100       120     250.4\n",
      "143      45.0    122       149     335.4\n",
      "144      60.0    136       170     470.2\n",
      "145      45.0    106       126     270.8\n",
      "146      60.0    107       136     400.0\n",
      "147      60.0    112       146     361.9\n",
      "148      30.0    103       127     185.0\n",
      "149      60.0    110       150     409.4\n",
      "150      60.0    106       134     343.0\n",
      "151      60.0    109       129     353.2\n",
      "152      60.0    109       138     374.0\n",
      "153      30.0    150       167     275.8\n",
      "154      60.0    105       128     328.0\n",
      "155      60.0    111       151     368.5\n",
      "156      60.0     97       131     270.4\n",
      "157      60.0    100       120     270.4\n",
      "158      60.0    114       150     382.8\n",
      "159      30.0     80       120     240.9\n",
      "160      30.0     85       120     250.4\n",
      "161      45.0     90       130     260.4\n",
      "162      45.0     95       130     270.0\n",
      "163      45.0    100       140     280.9\n",
      "164      60.0    105       140     290.8\n",
      "165      60.0    110       145     300.0\n",
      "166      60.0    115       145     310.2\n",
      "167      75.0    120       150     320.4\n",
      "168      60.0    125       150     330.4\n"
     ]
    }
   ],
   "source": [
    "import pandas as pd\n",
    "\n",
    "df = pd.read_csv('data.csv')\n",
    "median_values = df.median(numeric_only=True)\n",
    "df.fillna(median_values, inplace=True)\n",
    "\n",
    "print(\"Successfully filled empty cells with median values.\")\n",
    "print(\"--------------------------------------------------\")\n",
    "print(mean_value)\n",
    "print(df.to_string())"
   ]
  }
 ],
 "metadata": {
  "kernelspec": {
   "display_name": "Python 3",
   "language": "python",
   "name": "python3"
  },
  "language_info": {
   "codemirror_mode": {
    "name": "ipython",
    "version": 3
   },
   "file_extension": ".py",
   "mimetype": "text/x-python",
   "name": "python",
   "nbconvert_exporter": "python",
   "pygments_lexer": "ipython3",
   "version": "3.13.5"
  }
 },
 "nbformat": 4,
 "nbformat_minor": 5
}
