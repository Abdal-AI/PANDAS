{
 "cells": [
  {
   "cell_type": "markdown",
   "id": "5b3b21ef",
   "metadata": {},
   "source": [
    "# PANDAS"
   ]
  },
  {
   "cell_type": "markdown",
   "id": "60b7873d",
   "metadata": {},
   "source": [
    "**SERIES IN PANDAS**\n",
    "- ITS like one dimmmension array\n",
    "- we can access all the eelemrnt in arry\n",
    "- now to see the example of series"
   ]
  },
  {
   "cell_type": "code",
   "execution_count": null,
   "id": "38f53367",
   "metadata": {},
   "outputs": [],
   "source": [
    "import pandas as pd\n",
    "# lets we take a simple one dimmension array\n",
    "arry=[1,2,3,4,5,6,7,8,9,10]\n",
    "# lets we convert this array into pandas series\n",
    "new=pd.Series(arry)\n",
    "print(new)"
   ]
  },
  {
   "cell_type": "markdown",
   "id": "5437122f",
   "metadata": {},
   "source": [
    "**WE CAN ACCESS THE EVERY ELENT OF IT**\n",
    "- for example i have 10 index and i want to aceess the 9 one so waht i do \n",
    "- so i will show this in code"
   ]
  },
  {
   "cell_type": "code",
   "execution_count": null,
   "id": "106e7809",
   "metadata": {},
   "outputs": [
    {
     "name": "stdout",
     "output_type": "stream",
     "text": [
      "10\n"
     ]
    }
   ],
   "source": [
    "\n",
    "new_var=new[8]\n",
    "print(new_var)"
   ]
  },
  {
   "cell_type": "markdown",
   "id": "726f8fda",
   "metadata": {},
   "source": [
    "****"
   ]
  },
  {
   "cell_type": "markdown",
   "id": "c486ec52",
   "metadata": {},
   "source": [
    "**how to access element from dictionary**"
   ]
  },
  {
   "cell_type": "code",
   "execution_count": 13,
   "id": "788e20bf",
   "metadata": {},
   "outputs": [
    {
     "name": "stdout",
     "output_type": "stream",
     "text": [
      "      car  number\n",
      "0     bmw       1\n",
      "1  toyota       2\n",
      "2    ford       3\n",
      "ford\n"
     ]
    }
   ],
   "source": [
    "import pandas as pd\n",
    "mydata={ 'car': [\"bmw\",\"toyota\",\"ford\"] ,'number': [1,2,3]}\n",
    "mynew=pd.DataFrame(mydata)\n",
    "print(mynew)\n",
    "new_var=mynew['car'][2]\n",
    "print(new_var)"
   ]
  },
  {
   "cell_type": "markdown",
   "id": "ce7280ad",
   "metadata": {},
   "source": [
    "# read csv file\n"
   ]
  },
  {
   "cell_type": "code",
   "execution_count": null,
   "id": "54c231db",
   "metadata": {},
   "outputs": [],
   "source": [
    "import pandas as pd\n",
    "pd.set_option('display.max_rows', None)  # Show all rows\n",
    "new = pd.read_csv('sales_data_analysis.csv')\n",
    "print(new)"
   ]
  },
  {
   "cell_type": "markdown",
   "id": "9ff5b604",
   "metadata": {},
   "source": [
    "# READ JSON FILE"
   ]
  },
  {
   "cell_type": "code",
   "execution_count": null,
   "id": "88818db4",
   "metadata": {},
   "outputs": [],
   "source": [
    "import pandas as pd\n",
    "new=pd.read_json('open.json')\n",
    "print(new)"
   ]
  }
 ],
 "metadata": {
  "kernelspec": {
   "display_name": "Python 3",
   "language": "python",
   "name": "python3"
  },
  "language_info": {
   "codemirror_mode": {
    "name": "ipython",
    "version": 3
   },
   "file_extension": ".py",
   "mimetype": "text/x-python",
   "name": "python",
   "nbconvert_exporter": "python",
   "pygments_lexer": "ipython3",
   "version": "3.13.5"
  }
 },
 "nbformat": 4,
 "nbformat_minor": 5
}
