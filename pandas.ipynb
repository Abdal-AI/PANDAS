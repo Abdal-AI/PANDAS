{
 "cells": [
  {
   "cell_type": "markdown",
   "id": "5b3b21ef",
   "metadata": {},
   "source": [
    "# PANDAS"
   ]
  },
  {
   "cell_type": "markdown",
   "id": "60b7873d",
   "metadata": {},
   "source": [
    "**SERIES IN PANDAS**\n",
    "- ITS like one dimmmension array\n",
    "- we can access all the eelemrnt in arry\n",
    "- now to see the example of series"
   ]
  },
  {
   "cell_type": "code",
   "execution_count": 1,
   "id": "38f53367",
   "metadata": {},
   "outputs": [
    {
     "name": "stdout",
     "output_type": "stream",
     "text": [
      "0     1\n",
      "1     2\n",
      "2     3\n",
      "3     4\n",
      "4     5\n",
      "5     6\n",
      "6     7\n",
      "7     8\n",
      "8     9\n",
      "9    10\n",
      "dtype: int64\n"
     ]
    }
   ],
   "source": [
    "import pandas as pd\n",
    "# lets we take a simple one dimmension array\n",
    "arry=[1,2,3,4,5,6,7,8,9,10]\n",
    "# lets we convert this array into pandas series\n",
    "new=pd.Series(arry)\n",
    "print(new)"
   ]
  },
  {
   "cell_type": "markdown",
   "id": "726f8fda",
   "metadata": {},
   "source": [
    "****"
   ]
  },
  {
   "cell_type": "code",
   "execution_count": 1,
   "id": "788e20bf",
   "metadata": {},
   "outputs": [
    {
     "name": "stdout",
     "output_type": "stream",
     "text": [
      "      car  number\n",
      "0     bmw       1\n",
      "1  toyota       2\n",
      "2    ford       3\n"
     ]
    }
   ],
   "source": [
    "import pandas as pd\n",
    "mydata={ 'car': [\"bmw\",\"toyota\",\"ford\"] ,'number': [1,2,3]}\n",
    "mynew=pd.DataFrame(mydata)\n",
    "print(mynew)"
   ]
  },
  {
   "cell_type": "markdown",
   "id": "ce7280ad",
   "metadata": {},
   "source": [
    "# read csv file\n"
   ]
  },
  {
   "cell_type": "code",
   "execution_count": null,
   "id": "54c231db",
   "metadata": {},
   "outputs": [],
   "source": [
    "import pandas as pd\n",
    "pd.set_option('display.max_rows', None)  # Show all rows\n",
    "new = pd.read_csv('sales_data_analysis.csv')\n",
    "print(new)"
   ]
  },
  {
   "cell_type": "markdown",
   "id": "9ff5b604",
   "metadata": {},
   "source": [
    "# READ JSON FILE"
   ]
  },
  {
   "cell_type": "code",
   "execution_count": null,
   "id": "88818db4",
   "metadata": {},
   "outputs": [],
   "source": [
    "import pandas as pd\n",
    "new=pd.read_json('open.json')\n",
    "print(new)"
   ]
  }
 ],
 "metadata": {
  "kernelspec": {
   "display_name": "Python 3",
   "language": "python",
   "name": "python3"
  },
  "language_info": {
   "codemirror_mode": {
    "name": "ipython",
    "version": 3
   },
   "file_extension": ".py",
   "mimetype": "text/x-python",
   "name": "python",
   "nbconvert_exporter": "python",
   "pygments_lexer": "ipython3",
   "version": "3.13.5"
  }
 },
 "nbformat": 4,
 "nbformat_minor": 5
}
