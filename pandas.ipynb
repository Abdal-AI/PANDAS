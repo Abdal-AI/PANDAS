{
 "cells": [
  {
   "cell_type": "markdown",
   "id": "5b3b21ef",
   "metadata": {},
   "source": [
    "# PANDAS"
   ]
  },
  {
   "cell_type": "markdown",
   "id": "60b7873d",
   "metadata": {},
   "source": [
    "**SERIES IN PANDAS**\n",
    "- ITS like one dimmmension array\n",
    "- we can access all the eelemrnt in arry\n",
    "- now to see the example of series"
   ]
  },
  {
   "cell_type": "code",
   "execution_count": 1,
   "id": "38f53367",
   "metadata": {},
   "outputs": [
    {
     "name": "stdout",
     "output_type": "stream",
     "text": [
      "0     1\n",
      "1     2\n",
      "2     3\n",
      "3     4\n",
      "4     5\n",
      "5     6\n",
      "6     7\n",
      "7     8\n",
      "8     9\n",
      "9    10\n",
      "dtype: int64\n"
     ]
    }
   ],
   "source": [
    "import pandas as pd\n",
    "# lets we take a simple one dimmension array\n",
    "arry=[1,2,3,4,5,6,7,8,9,10]\n",
    "# lets we convert this array into pandas series\n",
    "new=pd.Series(arry)\n",
    "print(new)"
   ]
  },
  {
   "cell_type": "markdown",
   "id": "5437122f",
   "metadata": {},
   "source": [
    "**WE CAN ACCESS THE EVERY ELENT OF IT**\n",
    "- for example i have 10 index and i want to aceess the 9 one so waht i do \n",
    "- so i will show this in code"
   ]
  },
  {
   "cell_type": "code",
   "execution_count": null,
   "id": "106e7809",
   "metadata": {},
   "outputs": [
    {
     "name": "stdout",
     "output_type": "stream",
     "text": [
      "10\n"
     ]
    }
   ],
   "source": [
    "\n",
    "new_var=new[8]\n",
    "print(new_var)"
   ]
  },
  {
   "cell_type": "markdown",
   "id": "726f8fda",
   "metadata": {},
   "source": [
    "****"
   ]
  },
  {
   "cell_type": "markdown",
   "id": "c486ec52",
   "metadata": {},
   "source": [
    "**how to access element from dictionary**"
   ]
  },
  {
   "cell_type": "code",
   "execution_count": 13,
   "id": "788e20bf",
   "metadata": {},
   "outputs": [
    {
     "name": "stdout",
     "output_type": "stream",
     "text": [
      "      car  number\n",
      "0     bmw       1\n",
      "1  toyota       2\n",
      "2    ford       3\n",
      "ford\n"
     ]
    }
   ],
   "source": [
    "import pandas as pd\n",
    "mydata={ 'car': [\"bmw\",\"toyota\",\"ford\"] ,'number': [1,2,3]}\n",
    "mynew=pd.DataFrame(mydata)\n",
    "print(mynew)\n",
    "new_var=mynew['car'][2]\n",
    "print(new_var)"
   ]
  },
  {
   "cell_type": "markdown",
   "id": "a4ee9683",
   "metadata": {},
   "source": [
    "# DATA FRAME\n",
    "**FIRST WE GENERATE A MANUALLY DATA FRAM**\n",
    "- lets show you in an example"
   ]
  },
  {
   "cell_type": "code",
   "execution_count": 22,
   "id": "6bba5e1e",
   "metadata": {},
   "outputs": [
    {
     "name": "stdout",
     "output_type": "stream",
     "text": [
      "               A         B         C\n",
      "monday  0.210548  0.542653  0.197865\n",
      "tues    0.785099  0.041200  0.668983\n",
      "wens    0.384171  0.566559  0.542939\n",
      "turs    0.488986  0.492564  0.143845\n"
     ]
    }
   ],
   "source": [
    "import pandas as pd\n",
    "import numpy as np\n",
    "from numpy.random import rand\n",
    "\n",
    "my_data = rand(4,3) # This is a 4x3 array (4 rows, 3 columns)\n",
    "\n",
    "num_rows = ['monday','tues','wens','turs'] # This list has 4 elements, for the 4 rows\n",
    "num_columns = ['A','B','C']             # This list has 3 elements, for the 3 columns\n",
    "\n",
    "# Corrected DataFrame creation using keyword arguments for clarity and correctness\n",
    "mynew = pd.DataFrame(my_data, num_rows, num_columns)\n",
    "\n",
    "print(mynew)"
   ]
  },
  {
   "cell_type": "markdown",
   "id": "ce7280ad",
   "metadata": {},
   "source": [
    "# read csv file\n"
   ]
  },
  {
   "cell_type": "code",
   "execution_count": null,
   "id": "54c231db",
   "metadata": {},
   "outputs": [],
   "source": [
    "import pandas as pd\n",
    "pd.set_option('display.max_rows', None)  # Show all rows\n",
    "new = pd.read_csv('sales_data_analysis.csv')\n",
    "print(new)"
   ]
  },
  {
   "cell_type": "markdown",
   "id": "9ff5b604",
   "metadata": {},
   "source": [
    "# READ JSON FILE"
   ]
  },
  {
   "cell_type": "code",
   "execution_count": null,
   "id": "d4607c3e",
   "metadata": {},
   "outputs": [],
   "source": [
    "import pandas as pd\n",
    "pd.set_option('display.max_rows', None)  # Show all rows\n",
    "pd.set_option('display.max_columns', None)  # Show all columns\n",
    "new =pd.read_json('iris-parquet.json')\n",
    "print(new)"
   ]
  },
  {
   "cell_type": "markdown",
   "id": "7eb73642",
   "metadata": {},
   "source": [
    "# PANDAS ANLAYISE DATA\n",
    "**WE CAN THREE FUCTION**\n",
    "- Head()\n",
    "- tail()\n",
    "- info()"
   ]
  },
  {
   "cell_type": "markdown",
   "id": "f9c6d49d",
   "metadata": {},
   "source": [
    "# HEAD FUNCTION\n",
    "- it show only fist five rows"
   ]
  },
  {
   "cell_type": "code",
   "execution_count": 1,
   "id": "8873a1ff",
   "metadata": {},
   "outputs": [
    {
     "name": "stdout",
     "output_type": "stream",
     "text": [
      "         Date Product  Sales  Price  Revenue\n",
      "0  2023-01-01       A    161  17.48  2814.28\n",
      "1  2023-01-02       C     95  36.21  3439.95\n",
      "2  2023-01-03       C    120  21.09  2530.80\n",
      "3  2023-01-04       B    147  38.60  5674.20\n",
      "4  2023-01-05       C    112  18.82  2107.84\n"
     ]
    }
   ],
   "source": [
    "import pandas as pd\n",
    "df=pd.read_csv('sales_data_analysis.csv')\n",
    "print(df.head())"
   ]
  },
  {
   "cell_type": "markdown",
   "id": "c19155e9",
   "metadata": {},
   "source": [
    "**if we want to access rows what you want**\n",
    "- for example 10\n"
   ]
  },
  {
   "cell_type": "code",
   "execution_count": 2,
   "id": "d41fec73",
   "metadata": {},
   "outputs": [
    {
     "name": "stdout",
     "output_type": "stream",
     "text": [
      "          Date Product  Sales  Price  Revenue\n",
      "0   2023-01-01       A    161  17.48  2814.28\n",
      "1   2023-01-02       C     95  36.21  3439.95\n",
      "2   2023-01-03       C    120  21.09  2530.80\n",
      "3   2023-01-04       B    147  38.60  5674.20\n",
      "4   2023-01-05       C    112  18.82  2107.84\n",
      "5   2023-01-06       A    125  20.87  2608.75\n",
      "6   2023-01-07       B    124  44.37  5501.88\n",
      "7   2023-01-08       A     74  30.89  2285.86\n",
      "8   2023-01-09       C    128  44.09  5643.52\n",
      "9   2023-01-10       A    189  14.88  2812.32\n",
      "10  2023-01-11       C     91  27.15  2470.65\n",
      "11  2023-01-12       A     89  12.51  1113.39\n"
     ]
    }
   ],
   "source": [
    "import pandas as pd\n",
    "df = pd.read_csv(\"sales_data_analysis.csv\")\n",
    "print(df.head(12))"
   ]
  },
  {
   "cell_type": "markdown",
   "id": "b0f5bc38",
   "metadata": {},
   "source": [
    "# TAIL FUNCTION\n"
   ]
  },
  {
   "cell_type": "code",
   "execution_count": 3,
   "id": "859087e6",
   "metadata": {},
   "outputs": [
    {
     "name": "stdout",
     "output_type": "stream",
     "text": [
      "          Date Product  Sales  Price  Revenue\n",
      "95  2023-04-06       C    167  22.29  3722.43\n",
      "96  2023-04-07       C    151  27.43  4141.93\n",
      "97  2023-04-08       A     62  31.97  1982.14\n",
      "98  2023-04-09       C    101  43.87  4430.87\n",
      "99  2023-04-10       A    128  44.78  5731.84\n"
     ]
    }
   ],
   "source": [
    "import pandas as pd\n",
    "df= pd.read_csv('sales_data_analysis.csv')\n",
    "print(df.tail())"
   ]
  },
  {
   "cell_type": "markdown",
   "id": "4916b4dc",
   "metadata": {},
   "source": [
    "**if you want to access more than  rows from last**"
   ]
  },
  {
   "cell_type": "code",
   "execution_count": 4,
   "id": "1749d9e2",
   "metadata": {},
   "outputs": [
    {
     "name": "stdout",
     "output_type": "stream",
     "text": [
      "          Date Product  Sales  Price  Revenue\n",
      "90  2023-04-01       C     92  18.79  1728.68\n",
      "91  2023-04-02       B     59  38.15  2250.85\n",
      "92  2023-04-03       B    133  39.23  5217.59\n",
      "93  2023-04-04       A    162  16.60  2689.20\n",
      "94  2023-04-05       A    186  35.35  6575.10\n",
      "95  2023-04-06       C    167  22.29  3722.43\n",
      "96  2023-04-07       C    151  27.43  4141.93\n",
      "97  2023-04-08       A     62  31.97  1982.14\n",
      "98  2023-04-09       C    101  43.87  4430.87\n",
      "99  2023-04-10       A    128  44.78  5731.84\n"
     ]
    }
   ],
   "source": [
    "import pandas as pd\n",
    "df =pd.read_csv('sales_data_analysis.csv')\n",
    "print(df.tail(10))"
   ]
  },
  {
   "cell_type": "code",
   "execution_count": null,
   "id": "c93f4a5b",
   "metadata": {},
   "outputs": [],
   "source": [
    "S"
   ]
  }
 ],
 "metadata": {
  "kernelspec": {
   "display_name": "Python 3",
   "language": "python",
   "name": "python3"
  },
  "language_info": {
   "codemirror_mode": {
    "name": "ipython",
    "version": 3
   },
   "file_extension": ".py",
   "mimetype": "text/x-python",
   "name": "python",
   "nbconvert_exporter": "python",
   "pygments_lexer": "ipython3",
   "version": "3.13.5"
  }
 },
 "nbformat": 4,
 "nbformat_minor": 5
}
