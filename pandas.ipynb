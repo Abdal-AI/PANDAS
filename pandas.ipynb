{
 "cells": [
  {
   "cell_type": "markdown",
   "id": "5b3b21ef",
   "metadata": {},
   "source": [
    "# PANDAS"
   ]
  },
  {
   "cell_type": "markdown",
   "id": "60b7873d",
   "metadata": {},
   "source": [
    "**SERIES IN PANDAS**\n",
    "- ITS like one dimmmension array\n",
    "- we can access all the eelemrnt in arry\n",
    "- now to see the example of series"
   ]
  },
  {
   "cell_type": "code",
   "execution_count": 1,
   "id": "38f53367",
   "metadata": {},
   "outputs": [
    {
     "name": "stdout",
     "output_type": "stream",
     "text": [
      "0     1\n",
      "1     2\n",
      "2     3\n",
      "3     4\n",
      "4     5\n",
      "5     6\n",
      "6     7\n",
      "7     8\n",
      "8     9\n",
      "9    10\n",
      "dtype: int64\n"
     ]
    }
   ],
   "source": [
    "import pandas as pd\n",
    "# lets we take a simple one dimmension array\n",
    "arry=[1,2,3,4,5,6,7,8,9,10]\n",
    "# lets we convert this array into pandas series\n",
    "new=pd.Series(arry)\n",
    "print(new)"
   ]
  },
  {
   "cell_type": "markdown",
   "id": "5437122f",
   "metadata": {},
   "source": [
    "**WE CAN ACCESS THE EVERY ELENT OF IT**\n",
    "- for example i have 10 index and i want to aceess the 9 one so waht i do \n",
    "- so i will show this in code"
   ]
  },
  {
   "cell_type": "code",
   "execution_count": null,
   "id": "106e7809",
   "metadata": {},
   "outputs": [
    {
     "name": "stdout",
     "output_type": "stream",
     "text": [
      "10\n"
     ]
    }
   ],
   "source": [
    "\n",
    "new_var=new[8]\n",
    "print(new_var)"
   ]
  },
  {
   "cell_type": "markdown",
   "id": "726f8fda",
   "metadata": {},
   "source": [
    "****"
   ]
  },
  {
   "cell_type": "markdown",
   "id": "c486ec52",
   "metadata": {},
   "source": [
    "**how to access element from dictionary**"
   ]
  },
  {
   "cell_type": "code",
   "execution_count": 13,
   "id": "788e20bf",
   "metadata": {},
   "outputs": [
    {
     "name": "stdout",
     "output_type": "stream",
     "text": [
      "      car  number\n",
      "0     bmw       1\n",
      "1  toyota       2\n",
      "2    ford       3\n",
      "ford\n"
     ]
    }
   ],
   "source": [
    "import pandas as pd\n",
    "mydata={ 'car': [\"bmw\",\"toyota\",\"ford\"] ,'number': [1,2,3]}\n",
    "mynew=pd.DataFrame(mydata)\n",
    "print(mynew)\n",
    "new_var=mynew['car'][2]\n",
    "print(new_var)"
   ]
  },
  {
   "cell_type": "markdown",
   "id": "a4ee9683",
   "metadata": {},
   "source": [
    "# DATA FRAME\n",
    "**FIRST WE GENERATE A MANUALLY DATA FRAM**\n",
    "- lets show you in an example"
   ]
  },
  {
   "cell_type": "code",
   "execution_count": 22,
   "id": "6bba5e1e",
   "metadata": {},
   "outputs": [
    {
     "name": "stdout",
     "output_type": "stream",
     "text": [
      "               A         B         C\n",
      "monday  0.210548  0.542653  0.197865\n",
      "tues    0.785099  0.041200  0.668983\n",
      "wens    0.384171  0.566559  0.542939\n",
      "turs    0.488986  0.492564  0.143845\n"
     ]
    }
   ],
   "source": [
    "import pandas as pd\n",
    "import numpy as np\n",
    "from numpy.random import rand\n",
    "\n",
    "my_data = rand(4,3) # This is a 4x3 array (4 rows, 3 columns)\n",
    "\n",
    "num_rows = ['monday','tues','wens','turs'] # This list has 4 elements, for the 4 rows\n",
    "num_columns = ['A','B','C']             # This list has 3 elements, for the 3 columns\n",
    "\n",
    "# Corrected DataFrame creation using keyword arguments for clarity and correctness\n",
    "mynew = pd.DataFrame(my_data, num_rows, num_columns)\n",
    "\n",
    "print(mynew)"
   ]
  },
  {
   "cell_type": "markdown",
   "id": "ce7280ad",
   "metadata": {},
   "source": [
    "# read csv file\n"
   ]
  },
  {
   "cell_type": "code",
   "execution_count": null,
   "id": "54c231db",
   "metadata": {},
   "outputs": [
    {
     "name": "stdout",
     "output_type": "stream",
     "text": [
      "          Date Product  Sales  Price  Revenue\n",
      "0   2023-01-01       A    161  17.48  2814.28\n",
      "1   2023-01-02       C     95  36.21  3439.95\n",
      "2   2023-01-03       C    120  21.09  2530.80\n",
      "3   2023-01-04       B    147  38.60  5674.20\n",
      "4   2023-01-05       C    112  18.82  2107.84\n",
      "5   2023-01-06       A    125  20.87  2608.75\n",
      "6   2023-01-07       B    124  44.37  5501.88\n",
      "7   2023-01-08       A     74  30.89  2285.86\n",
      "8   2023-01-09       C    128  44.09  5643.52\n",
      "9   2023-01-10       A    189  14.88  2812.32\n",
      "10  2023-01-11       C     91  27.15  2470.65\n",
      "11  2023-01-12       A     89  12.51  1113.39\n",
      "12  2023-01-13       C     67  47.64  3191.88\n",
      "13  2023-01-14       C    107  39.46  4222.22\n",
      "14  2023-01-15       A     61  35.91  2190.51\n",
      "15  2023-01-16       C     77  47.11  3627.47\n",
      "16  2023-01-17       B    174  25.25  4393.50\n",
      "17  2023-01-18       C    198  40.53  8024.94\n",
      "18  2023-01-19       C    133  16.87  2243.71\n",
      "19  2023-01-20       C    115  41.39  4759.85\n",
      "20  2023-01-21       C     83  11.62   964.46\n",
      "21  2023-01-22       C    184  24.97  4594.48\n",
      "22  2023-01-23       B    114  37.13  4232.82\n",
      "23  2023-01-24       C     94  23.85  2241.90\n",
      "24  2023-01-25       C    129  34.45  4444.05\n",
      "25  2023-01-26       B    166  15.75  2614.50\n",
      "26  2023-01-27       B    174  11.84  2060.16\n",
      "27  2023-01-28       A    111  45.57  5058.27\n",
      "28  2023-01-29       A    130  27.03  3513.90\n",
      "29  2023-01-30       B    153  43.81  6702.93\n",
      "30  2023-01-31       A     83  41.29  3427.07\n",
      "31  2023-02-01       B     88  48.56  4273.28\n",
      "32  2023-02-02       C     51  36.46  1859.46\n",
      "33  2023-02-03       A    192  39.00  7488.00\n",
      "34  2023-02-04       B     77  33.99  2617.23\n",
      "35  2023-02-05       C    175  37.59  6578.25\n",
      "36  2023-02-06       A     71  35.07  2489.97\n",
      "37  2023-02-07       B    127  22.55  2863.85\n",
      "38  2023-02-08       A    179  16.56  2964.24\n",
      "39  2023-02-09       C    164  38.29  6279.56\n",
      "40  2023-02-10       C     85  40.64  3454.40\n",
      "41  2023-02-11       C    137  46.34  6348.58\n",
      "42  2023-02-12       B    194  13.07  2535.58\n",
      "43  2023-02-13       A    106  17.16  1818.96\n",
      "44  2023-02-14       B    172  27.86  4791.92\n",
      "45  2023-02-15       B    100  43.95  4395.00\n",
      "46  2023-02-16       B     51  36.47  1859.97\n",
      "47  2023-02-17       C    182  44.20  8044.40\n",
      "48  2023-02-18       B    138  11.55  1593.90\n",
      "49  2023-02-19       B     68  35.25  2397.00\n",
      "50  2023-02-20       C     86  16.25  1397.50\n",
      "51  2023-02-21       C    112  25.73  2881.76\n",
      "52  2023-02-22       B    163  47.09  7675.67\n",
      "53  2023-02-23       A    128  15.44  1976.32\n",
      "54  2023-02-24       A    121  40.71  4925.91\n",
      "55  2023-02-25       C    117  36.86  4312.62\n",
      "56  2023-02-26       A    150  42.52  6378.00\n",
      "57  2023-02-27       A    105  36.94  3878.70\n",
      "58  2023-02-28       B    132  33.00  4356.00\n",
      "59  2023-03-01       B     61  10.31   628.91\n",
      "60  2023-03-02       A     85  25.20  2142.00\n",
      "61  2023-03-03       B     73  34.03  2484.19\n",
      "62  2023-03-04       B    192  21.57  4141.44\n",
      "63  2023-03-05       B    111  39.67  4403.37\n",
      "64  2023-03-06       B    172  27.98  4812.56\n",
      "65  2023-03-07       C    187  36.73  6868.51\n",
      "66  2023-03-08       B    139  27.89  3876.71\n",
      "67  2023-03-09       A    161  45.85  7381.85\n",
      "68  2023-03-10       B     69  17.84  1230.96\n",
      "69  2023-03-11       B     71  41.28  2930.88\n",
      "70  2023-03-12       A    100  28.53  2853.00\n",
      "71  2023-03-13       B    147  16.93  2488.71\n",
      "72  2023-03-14       B    189  20.13  3804.57\n",
      "73  2023-03-15       B     88  31.15  2741.20\n",
      "74  2023-03-16       B    197  47.98  9452.06\n",
      "75  2023-03-17       C     93  45.39  4221.27\n",
      "76  2023-03-18       A    124  21.35  2647.40\n",
      "77  2023-03-19       A    152  18.22  2769.44\n",
      "78  2023-03-20       B    121  39.37  4763.77\n",
      "79  2023-03-21       A    175  43.15  7551.25\n",
      "80  2023-03-22       B    163  29.41  4793.83\n",
      "81  2023-03-23       C    192  25.26  4849.92\n",
      "82  2023-03-24       C     77  46.07  3547.39\n",
      "83  2023-03-25       A    101  36.46  3682.46\n",
      "84  2023-03-26       C    168  24.20  4065.60\n",
      "85  2023-03-27       B    178  25.17  4480.26\n",
      "86  2023-03-28       C    166  14.65  2431.90\n",
      "87  2023-03-29       C    131  31.09  4072.79\n",
      "88  2023-03-30       C    188  27.99  5262.12\n",
      "89  2023-03-31       C    116  31.16  3614.56\n",
      "90  2023-04-01       C     92  18.79  1728.68\n",
      "91  2023-04-02       B     59  38.15  2250.85\n",
      "92  2023-04-03       B    133  39.23  5217.59\n",
      "93  2023-04-04       A    162  16.60  2689.20\n",
      "94  2023-04-05       A    186  35.35  6575.10\n",
      "95  2023-04-06       C    167  22.29  3722.43\n",
      "96  2023-04-07       C    151  27.43  4141.93\n",
      "97  2023-04-08       A     62  31.97  1982.14\n",
      "98  2023-04-09       C    101  43.87  4430.87\n",
      "99  2023-04-10       A    128  44.78  5731.84\n"
     ]
    }
   ],
   "source": [
    "import pandas as pd\n",
    "pd.set_option('display.max_rows', None)  # Show all rows\n",
    "new = pd.read_csv('sales_data_analysis.csv')\n",
    "print(new)"
   ]
  },
  {
   "cell_type": "markdown",
   "id": "9ff5b604",
   "metadata": {},
   "source": [
    "# READ JSON FILE"
   ]
  },
  {
   "cell_type": "code",
   "execution_count": 21,
   "id": "d4607c3e",
   "metadata": {},
   "outputs": [
    {
     "name": "stdout",
     "output_type": "stream",
     "text": [
      "     sepal.length  sepal.width  petal.length  petal.width     variety\n",
      "0             5.1          3.5           1.4          0.2      Setosa\n",
      "1             4.9          3.0           1.4          0.2      Setosa\n",
      "2             4.7          3.2           1.3          0.2      Setosa\n",
      "3             4.6          3.1           1.5          0.2      Setosa\n",
      "4             5.0          3.6           1.4          0.2      Setosa\n",
      "5             5.4          3.9           1.7          0.4      Setosa\n",
      "6             4.6          3.4           1.4          0.3      Setosa\n",
      "7             5.0          3.4           1.5          0.2      Setosa\n",
      "8             4.4          2.9           1.4          0.2      Setosa\n",
      "9             4.9          3.1           1.5          0.1      Setosa\n",
      "10            5.4          3.7           1.5          0.2      Setosa\n",
      "11            4.8          3.4           1.6          0.2      Setosa\n",
      "12            4.8          3.0           1.4          0.1      Setosa\n",
      "13            4.3          3.0           1.1          0.1      Setosa\n",
      "14            5.8          4.0           1.2          0.2      Setosa\n",
      "15            5.7          4.4           1.5          0.4      Setosa\n",
      "16            5.4          3.9           1.3          0.4      Setosa\n",
      "17            5.1          3.5           1.4          0.3      Setosa\n",
      "18            5.7          3.8           1.7          0.3      Setosa\n",
      "19            5.1          3.8           1.5          0.3      Setosa\n",
      "20            5.4          3.4           1.7          0.2      Setosa\n",
      "21            5.1          3.7           1.5          0.4      Setosa\n",
      "22            4.6          3.6           1.0          0.2      Setosa\n",
      "23            5.1          3.3           1.7          0.5      Setosa\n",
      "24            4.8          3.4           1.9          0.2      Setosa\n",
      "25            5.0          3.0           1.6          0.2      Setosa\n",
      "26            5.0          3.4           1.6          0.4      Setosa\n",
      "27            5.2          3.5           1.5          0.2      Setosa\n",
      "28            5.2          3.4           1.4          0.2      Setosa\n",
      "29            4.7          3.2           1.6          0.2      Setosa\n",
      "30            4.8          3.1           1.6          0.2      Setosa\n",
      "31            5.4          3.4           1.5          0.4      Setosa\n",
      "32            5.2          4.1           1.5          0.1      Setosa\n",
      "33            5.5          4.2           1.4          0.2      Setosa\n",
      "34            4.9          3.1           1.5          0.2      Setosa\n",
      "35            5.0          3.2           1.2          0.2      Setosa\n",
      "36            5.5          3.5           1.3          0.2      Setosa\n",
      "37            4.9          3.6           1.4          0.1      Setosa\n",
      "38            4.4          3.0           1.3          0.2      Setosa\n",
      "39            5.1          3.4           1.5          0.2      Setosa\n",
      "40            5.0          3.5           1.3          0.3      Setosa\n",
      "41            4.5          2.3           1.3          0.3      Setosa\n",
      "42            4.4          3.2           1.3          0.2      Setosa\n",
      "43            5.0          3.5           1.6          0.6      Setosa\n",
      "44            5.1          3.8           1.9          0.4      Setosa\n",
      "45            4.8          3.0           1.4          0.3      Setosa\n",
      "46            5.1          3.8           1.6          0.2      Setosa\n",
      "47            4.6          3.2           1.4          0.2      Setosa\n",
      "48            5.3          3.7           1.5          0.2      Setosa\n",
      "49            5.0          3.3           1.4          0.2      Setosa\n",
      "50            7.0          3.2           4.7          1.4  Versicolor\n",
      "51            6.4          3.2           4.5          1.5  Versicolor\n",
      "52            6.9          3.1           4.9          1.5  Versicolor\n",
      "53            5.5          2.3           4.0          1.3  Versicolor\n",
      "54            6.5          2.8           4.6          1.5  Versicolor\n",
      "55            5.7          2.8           4.5          1.3  Versicolor\n",
      "56            6.3          3.3           4.7          1.6  Versicolor\n",
      "57            4.9          2.4           3.3          1.0  Versicolor\n",
      "58            6.6          2.9           4.6          1.3  Versicolor\n",
      "59            5.2          2.7           3.9          1.4  Versicolor\n",
      "60            5.0          2.0           3.5          1.0  Versicolor\n",
      "61            5.9          3.0           4.2          1.5  Versicolor\n",
      "62            6.0          2.2           4.0          1.0  Versicolor\n",
      "63            6.1          2.9           4.7          1.4  Versicolor\n",
      "64            5.6          2.9           3.6          1.3  Versicolor\n",
      "65            6.7          3.1           4.4          1.4  Versicolor\n",
      "66            5.6          3.0           4.5          1.5  Versicolor\n",
      "67            5.8          2.7           4.1          1.0  Versicolor\n",
      "68            6.2          2.2           4.5          1.5  Versicolor\n",
      "69            5.6          2.5           3.9          1.1  Versicolor\n",
      "70            5.9          3.2           4.8          1.8  Versicolor\n",
      "71            6.1          2.8           4.0          1.3  Versicolor\n",
      "72            6.3          2.5           4.9          1.5  Versicolor\n",
      "73            6.1          2.8           4.7          1.2  Versicolor\n",
      "74            6.4          2.9           4.3          1.3  Versicolor\n",
      "75            6.6          3.0           4.4          1.4  Versicolor\n",
      "76            6.8          2.8           4.8          1.4  Versicolor\n",
      "77            6.7          3.0           5.0          1.7  Versicolor\n",
      "78            6.0          2.9           4.5          1.5  Versicolor\n",
      "79            5.7          2.6           3.5          1.0  Versicolor\n",
      "80            5.5          2.4           3.8          1.1  Versicolor\n",
      "81            5.5          2.4           3.7          1.0  Versicolor\n",
      "82            5.8          2.7           3.9          1.2  Versicolor\n",
      "83            6.0          2.7           5.1          1.6  Versicolor\n",
      "84            5.4          3.0           4.5          1.5  Versicolor\n",
      "85            6.0          3.4           4.5          1.6  Versicolor\n",
      "86            6.7          3.1           4.7          1.5  Versicolor\n",
      "87            6.3          2.3           4.4          1.3  Versicolor\n",
      "88            5.6          3.0           4.1          1.3  Versicolor\n",
      "89            5.5          2.5           4.0          1.3  Versicolor\n",
      "90            5.5          2.6           4.4          1.2  Versicolor\n",
      "91            6.1          3.0           4.6          1.4  Versicolor\n",
      "92            5.8          2.6           4.0          1.2  Versicolor\n",
      "93            5.0          2.3           3.3          1.0  Versicolor\n",
      "94            5.6          2.7           4.2          1.3  Versicolor\n",
      "95            5.7          3.0           4.2          1.2  Versicolor\n",
      "96            5.7          2.9           4.2          1.3  Versicolor\n",
      "97            6.2          2.9           4.3          1.3  Versicolor\n",
      "98            5.1          2.5           3.0          1.1  Versicolor\n",
      "99            5.7          2.8           4.1          1.3  Versicolor\n",
      "100           6.3          3.3           6.0          2.5   Virginica\n",
      "101           5.8          2.7           5.1          1.9   Virginica\n",
      "102           7.1          3.0           5.9          2.1   Virginica\n",
      "103           6.3          2.9           5.6          1.8   Virginica\n",
      "104           6.5          3.0           5.8          2.2   Virginica\n",
      "105           7.6          3.0           6.6          2.1   Virginica\n",
      "106           4.9          2.5           4.5          1.7   Virginica\n",
      "107           7.3          2.9           6.3          1.8   Virginica\n",
      "108           6.7          2.5           5.8          1.8   Virginica\n",
      "109           7.2          3.6           6.1          2.5   Virginica\n",
      "110           6.5          3.2           5.1          2.0   Virginica\n",
      "111           6.4          2.7           5.3          1.9   Virginica\n",
      "112           6.8          3.0           5.5          2.1   Virginica\n",
      "113           5.7          2.5           5.0          2.0   Virginica\n",
      "114           5.8          2.8           5.1          2.4   Virginica\n",
      "115           6.4          3.2           5.3          2.3   Virginica\n",
      "116           6.5          3.0           5.5          1.8   Virginica\n",
      "117           7.7          3.8           6.7          2.2   Virginica\n",
      "118           7.7          2.6           6.9          2.3   Virginica\n",
      "119           6.0          2.2           5.0          1.5   Virginica\n",
      "120           6.9          3.2           5.7          2.3   Virginica\n",
      "121           5.6          2.8           4.9          2.0   Virginica\n",
      "122           7.7          2.8           6.7          2.0   Virginica\n",
      "123           6.3          2.7           4.9          1.8   Virginica\n",
      "124           6.7          3.3           5.7          2.1   Virginica\n",
      "125           7.2          3.2           6.0          1.8   Virginica\n",
      "126           6.2          2.8           4.8          1.8   Virginica\n",
      "127           6.1          3.0           4.9          1.8   Virginica\n",
      "128           6.4          2.8           5.6          2.1   Virginica\n",
      "129           7.2          3.0           5.8          1.6   Virginica\n",
      "130           7.4          2.8           6.1          1.9   Virginica\n",
      "131           7.9          3.8           6.4          2.0   Virginica\n",
      "132           6.4          2.8           5.6          2.2   Virginica\n",
      "133           6.3          2.8           5.1          1.5   Virginica\n",
      "134           6.1          2.6           5.6          1.4   Virginica\n",
      "135           7.7          3.0           6.1          2.3   Virginica\n",
      "136           6.3          3.4           5.6          2.4   Virginica\n",
      "137           6.4          3.1           5.5          1.8   Virginica\n",
      "138           6.0          3.0           4.8          1.8   Virginica\n",
      "139           6.9          3.1           5.4          2.1   Virginica\n",
      "140           6.7          3.1           5.6          2.4   Virginica\n",
      "141           6.9          3.1           5.1          2.3   Virginica\n",
      "142           5.8          2.7           5.1          1.9   Virginica\n",
      "143           6.8          3.2           5.9          2.3   Virginica\n",
      "144           6.7          3.3           5.7          2.5   Virginica\n",
      "145           6.7          3.0           5.2          2.3   Virginica\n",
      "146           6.3          2.5           5.0          1.9   Virginica\n",
      "147           6.5          3.0           5.2          2.0   Virginica\n",
      "148           6.2          3.4           5.4          2.3   Virginica\n",
      "149           5.9          3.0           5.1          1.8   Virginica\n"
     ]
    }
   ],
   "source": [
    "import pandas as pd\n",
    "pd.set_option('display.max_rows', None)  # Show all rows\n",
    "pd.set_option('display.max_columns', None)  # Show all columns\n",
    "new =pd.read_json('iris-parquet.json')\n",
    "print(new)"
   ]
  },
  {
   "cell_type": "code",
   "execution_count": null,
   "id": "8873a1ff",
   "metadata": {},
   "outputs": [],
   "source": []
  }
 ],
 "metadata": {
  "kernelspec": {
   "display_name": "Python 3",
   "language": "python",
   "name": "python3"
  },
  "language_info": {
   "codemirror_mode": {
    "name": "ipython",
    "version": 3
   },
   "file_extension": ".py",
   "mimetype": "text/x-python",
   "name": "python",
   "nbconvert_exporter": "python",
   "pygments_lexer": "ipython3",
   "version": "3.13.5"
  }
 },
 "nbformat": 4,
 "nbformat_minor": 5
}
